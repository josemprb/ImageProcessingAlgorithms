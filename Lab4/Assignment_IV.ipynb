{
  "nbformat": 4,
  "nbformat_minor": 0,
  "metadata": {
    "colab": {
      "name": "Assignment_IV.ipynb",
      "provenance": [],
      "collapsed_sections": []
    },
    "kernelspec": {
      "name": "python3",
      "display_name": "Python 3"
    },
    "accelerator": "TPU"
  },
  "cells": [
    {
      "cell_type": "markdown",
      "metadata": {
        "id": "5Pxjb3SThkNA",
        "colab_type": "text"
      },
      "source": [
        "## Assignment IV\n",
        "### Thinning\n",
        "\n",
        "The purpose of this assignment is to implement thinning. There is one output for this implementation, the thinned image.\n",
        "\n",
        "Firstly, we import the mount the google drive colab importing its related library."
      ]
    },
    {
      "cell_type": "code",
      "metadata": {
        "id": "2S2sSyhBHMBv",
        "colab_type": "code",
        "outputId": "13b66bba-ce39-4271-fe7e-8ddac8517522",
        "colab": {
          "base_uri": "https://localhost:8080/",
          "height": 34
        }
      },
      "source": [
        "from google.colab import drive\n",
        "drive.mount(\"/content/gdrive\")"
      ],
      "execution_count": 1,
      "outputs": [
        {
          "output_type": "stream",
          "text": [
            "Drive already mounted at /content/gdrive; to attempt to forcibly remount, call drive.mount(\"/content/gdrive\", force_remount=True).\n"
          ],
          "name": "stdout"
        }
      ]
    },
    {
      "cell_type": "markdown",
      "metadata": {
        "id": "_kmOGcYhiSMn",
        "colab_type": "text"
      },
      "source": [
        "Afterwards, the directory is changed to the folder in which the Test Images are stored."
      ]
    },
    {
      "cell_type": "code",
      "metadata": {
        "id": "07vHWZU-HY-k",
        "colab_type": "code",
        "colab": {}
      },
      "source": [
        "import os\n",
        "os.getcwd()\n",
        "os.chdir(\"/content/gdrive/My Drive/BasicAlgorithmsforDigitalImaging/Lab4\")"
      ],
      "execution_count": 0,
      "outputs": []
    },
    {
      "cell_type": "markdown",
      "metadata": {
        "id": "pkDioTDSidk_",
        "colab_type": "text"
      },
      "source": [
        "Once this is done, the next step is to import the requirements for the implementation. They are OpenCV library cv2, numpy, cv2_imshow and time library."
      ]
    },
    {
      "cell_type": "code",
      "metadata": {
        "id": "xh8JR44EAztN",
        "colab_type": "code",
        "colab": {}
      },
      "source": [
        "import cv2 as cv\n",
        "import numpy as np\n",
        "from google.colab.patches import cv2_imshow\n",
        "import time\n",
        "import matplotlib.pyplot as plt"
      ],
      "execution_count": 0,
      "outputs": []
    },
    {
      "cell_type": "markdown",
      "metadata": {
        "id": "Fjr6M1gdi6uG",
        "colab_type": "text"
      },
      "source": [
        "Finally, the implementation is shown below:"
      ]
    },
    {
      "cell_type": "code",
      "metadata": {
        "id": "wmaxiKttLLFf",
        "colab_type": "code",
        "outputId": "68413821-1b81-4905-a9c3-8c494cd41a2c",
        "colab": {
          "base_uri": "https://localhost:8080/",
          "height": 434
        }
      },
      "source": [
        "np.seterr(over='ignore')\n",
        "\n",
        "# Loads an image.\n",
        "src = cv.imread(\"TestImages/all_png/csiga.png\", cv.IMREAD_GRAYSCALE)\n",
        "    \n",
        "# Check if image is loaded correctly.\n",
        "if src is None:\n",
        "  print ('Error opening image!')  \n",
        "  \n",
        "else:\n",
        "  # Show the source image.\n",
        "  # cv2_imshow(src)\n",
        "  \n",
        "  # Convert the previous grayscale image into a binary one.\n",
        "  ret,thresh_img = cv.threshold(src,127,255,cv.THRESH_BINARY)\n",
        "  cv2_imshow(thresh_img)\n",
        "\n",
        "  # Define row length and column length, as they will be widely used during the \n",
        "  # program.\n",
        "  row_length = src.shape[0]\n",
        "  col_length = src.shape[1]\n",
        "  \n",
        "  # Define the target image.\n",
        "  target = np.zeros((row_length,col_length))\n",
        "  \n",
        "  ## THINNING ALGORITHM\n",
        "  # Start measuring the execution time for Thinning algorithm.\n",
        "  start = time.time()\n",
        "  \n",
        "  # Set target1 and target2 images equal to the binary image previously defined.\n",
        "  target2 = thresh_img\n",
        "  target1 = thresh_img\n",
        "  \n",
        "  # Initialize the variable n_del to a number different to zero.\n",
        "  n_del = 1\n",
        "  \n",
        "  while n_del != 0:\n",
        "    \n",
        "    n_del = 0\n",
        "    target1 = target2\n",
        "    \n",
        "    for i in range(2, src.shape[0] - 1):\n",
        "      for j in range(2, src.shape[1] - 1):\n",
        "\n",
        "        # Labelling neighbours.\n",
        "        p = [target1[i-1,j], target1[i-1,j-1], target1[i,j-1], target1[i+1,j-1],\n",
        "            target1[i+1,j], target1[i+1,j+1], target1[i,j+1], target1[i-1,j+1],\n",
        "            target1[i-1,j]]\n",
        "      \n",
        "        # Labelling the upper neighbour.\n",
        "        p2 = [target1[i-2,j], target1[i-2,j-1], target1[i-1,j-1], target1[i,j-1],\n",
        "            target1[i,j], target1[i,j+1], target1[i-1,j+1], target1[i-2,j+1],\n",
        "            target1[i-2,j]]\n",
        "      \n",
        "        # Labelling the left neighbour.\n",
        "        p4 = [target1[i-1,j-1], target1[i-1,j-2], target1[i,j-2], target1[i+1,j-2],\n",
        "            target1[i+1,j-1], target1[i+1,j], target1[i,j], target1[i-1,j],\n",
        "            target1[i-1,j-1]]\n",
        "      \n",
        "        # Compute the non-zero neighbours. \n",
        "        nz = 0\n",
        "        for k in range(8):\n",
        "          if p[k] == 0:\n",
        "            nz = nz + 1\n",
        "      \n",
        "        # Compute the number of zero to non-zero transitions of actual pixel.\n",
        "        tr1 = 0\n",
        "        for k in range(8):\n",
        "          if p[k] == 255 and p[k+1] == 0:\n",
        "            tr1 = tr1 + 1\n",
        "      \n",
        "        # Compute the number of zero to non-zero transitions of upper pixel.\n",
        "        tr2 = 0\n",
        "        for k in range(8):\n",
        "          if p2[k] == 255 and p2[k+1] == 0:\n",
        "            tr2 = tr2 + 1\n",
        "          \n",
        "        # Compute the number of zero to non-zero transitions of left pixel.\n",
        "        tr4 = 0\n",
        "        for k in range(8):\n",
        "          if p4[k] == 255 and p4[k+1] == 0:\n",
        "            tr4 = tr4 + 1\n",
        "      \n",
        "        # Change from object to ground the actual pixel in target2 if following\n",
        "        # conditions are fulfilled.\n",
        "        if (target2[i][j] == 0) and (2 <= nz <= 6) and (tr1 == 1) and (p[0] == 255 or p[2] == 255 or p[4] == 255  or tr2 != 1) and (p[0] == 255 or p[2] == 255 or p[6] == 255  or tr4 != 1):\n",
        "          target2[i][j] = 255\n",
        "          n_del = n_del + 1\n",
        "  \n",
        "  # Stop measuring the execution time for Thinning algorithm.\n",
        "  last = time.time()\n",
        "  \n",
        "  # Show the image after applying the Thinning algorithm.\n",
        "  cv2_imshow(target2)\n",
        "\n",
        "  # Print out the execution time of the Thinning algorithm.\n",
        "  print(\"The time needed to apply thinning is \" + str(last - start) + \" seconds.\")"
      ],
      "execution_count": 29,
      "outputs": [
        {
          "output_type": "display_data",
          "data": {
            "image/png": "[encoded data removed]",
            "text/plain": [
              "<PIL.Image.Image image mode=L size=200x200 at 0x7FC1B930A898>"
            ]
          },
          "metadata": {
            "tags": []
          }
        },
        {
          "output_type": "display_data",
          "data": {
            "image/png": "[encoded data removed]",
            "text/plain": [
              "<PIL.Image.Image image mode=L size=200x200 at 0x7FC1B930A940>"
            ]
          },
          "metadata": {
            "tags": []
          }
        },
        {
          "output_type": "stream",
          "text": [
            "The time needed to apply thinning is 22.879061222076416 seconds.\n"
          ],
          "name": "stdout"
        }
      ]
    }
  ]
}