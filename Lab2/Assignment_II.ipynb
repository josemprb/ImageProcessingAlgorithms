{
  "nbformat": 4,
  "nbformat_minor": 0,
  "metadata": {
    "colab": {
      "name": "Assignment_II.ipynb",
      "provenance": [],
      "collapsed_sections": []
    },
    "kernelspec": {
      "name": "python3",
      "display_name": "Python 3"
    },
    "accelerator": "TPU"
  },
  "cells": [
    {
      "cell_type": "markdown",
      "metadata": {
        "id": "5Pxjb3SThkNA",
        "colab_type": "text"
      },
      "source": [
        "## Assignment II\n",
        "### Prewitt Edge Detector: Gradient Filter and result after Non-Maximum Suppression\n",
        "\n",
        "The purpose of this assignment is to implement two different variations of one type of edge detector, the one that includes the Prewitt operator. The first of them is the Gradient Filter solution, while the second ones applies Non-Maximum Suppression to the first implementation. \n",
        "\n",
        "Firstly, we import the mount the google drive colab importing its related library."
      ]
    },
    {
      "cell_type": "code",
      "metadata": {
        "id": "2S2sSyhBHMBv",
        "colab_type": "code",
        "outputId": "4260a47a-9e37-4389-9f1d-8068e90ad40b",
        "colab": {
          "base_uri": "https://localhost:8080/",
          "height": 121
        }
      },
      "source": [
        "from google.colab import drive\n",
        "drive.mount(\"/content/gdrive\")"
      ],
      "execution_count": 1,
      "outputs": [
        {
          "output_type": "stream",
          "text": [
            "Go to this URL in a browser: https://accounts.google.com/o/oauth2/auth?client_id=947318989803-6bn6qk8qdgf4n4g3pfee6491hc0brc4i.apps.googleusercontent.com&redirect_uri=urn%3Aietf%3Awg%3Aoauth%3A2.0%3Aoob&scope=email%20https%3A%2F%2Fwww.googleapis.com%2Fauth%2Fdocs.test%20https%3A%2F%2Fwww.googleapis.com%2Fauth%2Fdrive%20https%3A%2F%2Fwww.googleapis.com%2Fauth%2Fdrive.photos.readonly%20https%3A%2F%2Fwww.googleapis.com%2Fauth%2Fpeopleapi.readonly&response_type=code\n",
            "\n",
            "Enter your authorization code:\n",
            "··········\n",
            "Mounted at /content/gdrive\n"
          ],
          "name": "stdout"
        }
      ]
    },
    {
      "cell_type": "markdown",
      "metadata": {
        "id": "_kmOGcYhiSMn",
        "colab_type": "text"
      },
      "source": [
        "Afterwards, the directory is changed to the folder in which the Test Images are stored."
      ]
    },
    {
      "cell_type": "code",
      "metadata": {
        "id": "07vHWZU-HY-k",
        "colab_type": "code",
        "colab": {}
      },
      "source": [
        "import os\n",
        "os.getcwd()\n",
        "os.chdir(\"/content/gdrive/My Drive/BasicAlgorithmsforDigitalImaging/Lab2\")"
      ],
      "execution_count": 0,
      "outputs": []
    },
    {
      "cell_type": "markdown",
      "metadata": {
        "id": "pkDioTDSidk_",
        "colab_type": "text"
      },
      "source": [
        "Once this is done, the next step is to import the requirements for both implementations. They are OpenCV library cv2, numpy, cv2_imshow and time library."
      ]
    },
    {
      "cell_type": "code",
      "metadata": {
        "id": "xh8JR44EAztN",
        "colab_type": "code",
        "colab": {}
      },
      "source": [
        "import cv2 as cv\n",
        "import numpy as np\n",
        "from google.colab.patches import cv2_imshow\n",
        "import time"
      ],
      "execution_count": 0,
      "outputs": []
    },
    {
      "cell_type": "markdown",
      "metadata": {
        "id": "Fjr6M1gdi6uG",
        "colab_type": "text"
      },
      "source": [
        "Finally, both implementations are shown below:"
      ]
    },
    {
      "cell_type": "code",
      "metadata": {
        "id": "wmaxiKttLLFf",
        "colab_type": "code",
        "outputId": "d06e5af1-77c3-4805-f480-95ea06d953fa",
        "colab": {
          "base_uri": "https://localhost:8080/",
          "height": 667
        }
      },
      "source": [
        "# Loads an image.\n",
        "src = cv.imread(\"TestImages/all_png/cires0.png\", cv.IMREAD_GRAYSCALE)\n",
        "    \n",
        "# Check if image is loaded correctly.\n",
        "if src is None:\n",
        "  print ('Error opening image!')  \n",
        "  \n",
        "else:\n",
        "  # Show the source image.\n",
        "  cv2_imshow(src)\n",
        "  \n",
        "  # Define row length and column length, as they will be widely used during the \n",
        "  # program.\n",
        "  row_length = src.shape[0]\n",
        "  col_length = src.shape[1]\n",
        "  \n",
        "  # Define the Prewitt Operator.\n",
        "  gx = np.array(([[-1, -1, -1], [0, 0, 0], [1, 1, 1]]))\n",
        "  gy = gx.T\n",
        "  \n",
        "  # Define the output images.\n",
        "  target_hor = np.zeros((row_length,col_length))\n",
        "  target_ver = np.zeros((row_length,col_length))\n",
        "  target = np.zeros((row_length,col_length))\n",
        "  angle = np.zeros((row_length,col_length))\n",
        "  nms_target = np.zeros((row_length,col_length))\n",
        "  \n",
        "  ### GRADIENT FILTER\n",
        "  # Start measuring the execution time for Gradient Filter.\n",
        "  start = time.time()\n",
        "  \n",
        "  # Compute the values for each of the pixels in the matrix, except the borders.\n",
        "  for i in range(1, row_length-1):\n",
        "    for j in range(1, col_length-1):\n",
        "      target_hor[i,j] = np.sum(np.multiply(src[i-1:i+2, j-1:j+2],gx)) / 3\n",
        "      target_ver[i,j] = np.sum(np.multiply(src[i-1:i+2, j-1:j+2],gy)) / 3\n",
        "      target[i,j] = np.sqrt(target_hor[i,j]**2 + target_ver[i,j]**2)\n",
        "      angle[i,j] = np.arctan2(target_hor[i,j],target_ver[i,j])\n",
        "  \n",
        "  # Now, compute the edges for firsts and lasts rows with the same value as the\n",
        "  # pixel that it is next to it. \n",
        "  for i in range(row_length):  \n",
        "    for a in range(2):\n",
        "      target[i,1-a] = target[i,1]\n",
        "      target[i,col_length-2+a] = target[i,col_length-2]\n",
        "        \n",
        "  # Now, compute the edges for firsts and lasts columns with the same value as \n",
        "  # the pixel that it is next to it.\n",
        "  for j in range(col_length):\n",
        "    for a in range(2):\n",
        "      target[1-a,j] = target[1,j]\n",
        "      target[row_length-2+a,j] = target[row_length-2,j]\n",
        "  \n",
        "  # Stop measuring the execution time for Gradient Filter.\n",
        "  last = time.time()\n",
        "  \n",
        "  # Show the images after applying the Gradient Filter\n",
        "  print(\"Target image showing Gradient filter for Prewitt operator\")\n",
        "  cv2_imshow(target)\n",
        "  \n",
        "  # Print out the execution time of the Gradient Filter.\n",
        "  print(\"The time needed to detect the edges of the source image using Gradient filter for Prewitt operator is \" + str(last - start) + \" seconds.\")\n",
        "  \n",
        "  ### GRADIENT FILTER AFTER NON-MAXIMUM SUPPRESSION.\n",
        "  # Start measuring the execution time for Gradient Filter after NMS.\n",
        "  start = time.time()\n",
        "  \n",
        "  angle = angle * 180 / np.pi\n",
        "  angle[angle < 0] += 180\n",
        "  \n",
        "  # Find the position of such pixel and copy it into NMS target image.\n",
        "  for i in range(1, row_length-1):\n",
        "    for j in range(1, col_length-1):\n",
        "      \n",
        "      # Angle 0\n",
        "      if (0 <= angle[i,j] < 22.5) or (157.5 <= angle[i,j] <= 180):\n",
        "        q = target[i, j+1]\n",
        "        r = target[i, j-1]\n",
        "       \n",
        "      # Angle 45\n",
        "      elif (22.5 <= angle[i,j] < 67.5):\n",
        "        q = target[i-1, j-1]\n",
        "        r = target[i+1, j+1]\n",
        "               \n",
        "      # Angle 90\n",
        "      elif (67.5 <= angle[i,j] < 112.5):\n",
        "        q = target[i+1, j]\n",
        "        r = target[i-1, j]\n",
        "                \n",
        "      # Angle 135\n",
        "      elif (112.5 <= angle[i,j] < 157.5):\n",
        "        q = target[i+1, j-1]\n",
        "        r = target[i-1, j+1]\n",
        "\n",
        "      if (target[i,j] < q) or (target[i,j] < r):\n",
        "        target[i,j] = 0\n",
        "      \n",
        "  # Stop measuring the execution time for Gradient Filter after NMS.\n",
        "  last = time.time()\n",
        "  \n",
        "  # Show the image after applying the Gradient Filter after NMS.\n",
        "  cv2_imshow(target)\n",
        "  \n",
        "  # Print out the execution time of the Gradient Filter after NMS.\n",
        "  print(\"The time needed to detect the edges of the source image using Gradient Filter after NMS is \" + str(last - start) + \" seconds.\")"
      ],
      "execution_count": 28,
      "outputs": [
        {
          "output_type": "display_data",
          "data": {
            "image/png": "[encoded data removed]",
            "text/plain": [
              "<PIL.Image.Image image mode=L size=223x200 at 0x7FE67D037DD8>"
            ]
          },
          "metadata": {
            "tags": []
          }
        },
        {
          "output_type": "stream",
          "text": [
            "Target image showing Gradient filter for Prewitt operator\n"
          ],
          "name": "stdout"
        },
        {
          "output_type": "display_data",
          "data": {
            "image/png": "[encoded data removed]",
            "text/plain": [
              "<PIL.Image.Image image mode=L size=223x200 at 0x7FE67D037E10>"
            ]
          },
          "metadata": {
            "tags": []
          }
        },
        {
          "output_type": "stream",
          "text": [
            "The time needed to detect the edges of the source image using Gradient filter for Prewitt operator is 0.8594009876251221 seconds.\n"
          ],
          "name": "stdout"
        },
        {
          "output_type": "display_data",
          "data": {
            "image/png": "[encoded data removed]",
            "text/plain": [
              "<PIL.Image.Image image mode=L size=223x200 at 0x7FE67D037E48>"
            ]
          },
          "metadata": {
            "tags": []
          }
        },
        {
          "output_type": "stream",
          "text": [
            "The time needed to detect the edges of the source image using Gradient Filter after NMS is 0.08342576026916504 seconds.\n"
          ],
          "name": "stdout"
        }
      ]
    }
  ]
}